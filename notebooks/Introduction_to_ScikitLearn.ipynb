{
 "cells": [
  {
   "cell_type": "markdown",
   "id": "dac4b7f3-dd00-4d94-81ea-af30c6a37af9",
   "metadata": {},
   "source": [
    "# Introduction to Scikit Learn\n",
    "\n",
    "Note :- Practise and follow along with the code and do assignmnets and through repitition, things are going to stick.\n",
    "Don't get overwhelmed."
   ]
  },
  {
   "cell_type": "markdown",
   "id": "365d3a3e-ba09-4909-af46-c23152674897",
   "metadata": {},
   "source": [
    "## Scikit-learn Introduction\n",
    "\n",
    "What is Scikit-learn?\n",
    "It is a python ML library. i.e if we have data, sklearn helps us build ML modles to make predictions or learn patterns within data and then make predictions and also implements tools to help us evaluate the models.\n",
    "\n",
    "Why Scikit-learn?\n",
    "- built on NumPy and Matplotlib and Python\n",
    "- has many in-built ML models\n",
    "- methods to evaluate your ML models\n",
    "- very well designed API"
   ]
  },
  {
   "cell_type": "markdown",
   "id": "a37a6212-ba5e-4f51-a1f3-914d963519d0",
   "metadata": {},
   "source": [
    "## Scikit-learn workflow\n",
    "1. Get data ready\n",
    "2. Pick a model(to suit your problem)\n",
    "3. Fit the model to teh data (and make prediction)\n",
    "4. Evaluate model\n",
    "5. Improve through experimentation\n",
    "6. Save and reload your trained model"
   ]
  },
  {
   "cell_type": "markdown",
   "id": "c4f91d86-36f3-4430-86e1-941acd40ed5f",
   "metadata": {},
   "source": [
    "### Where to get help?\n",
    "- Follow along with the code\n",
    "- Try it for yourself\n",
    "- Press SHIFT+TAB to read docstring\n",
    "- Search for it\n",
    "- Try again\n",
    "- Ask(last resort)"
   ]
  },
  {
   "cell_type": "code",
   "execution_count": 1,
   "id": "20f3182d-3a70-4792-ada0-cb7acae82f82",
   "metadata": {},
   "outputs": [],
   "source": [
    "what_were_covering = [\n",
    "    \"0. An end-to-end Scikit-Learn workflow\",\n",
    "    \"1. Getting the data ready\",\n",
    "    \"2. Choose the right estimator/algorithm for our problems\",\n",
    "    \"3. Fit the model/algorithm and use it to make predictions on our data\",\n",
    "    \"4. Evaluating a model\",\n",
    "    \"5. Improve a model\",\n",
    "    \"6. Save and load a trained model\",\n",
    "    \"7. Putting it all together!\"]"
   ]
  },
  {
   "cell_type": "code",
   "execution_count": 2,
   "id": "0462353a-9161-4969-8781-ac6bb8bd0b68",
   "metadata": {},
   "outputs": [
    {
     "data": {
      "text/plain": [
       "['0. An end-to-end Scikit-Learn workflow',\n",
       " '1. Getting the data ready',\n",
       " '2. Choose the right estimator/algorithm for our problems',\n",
       " '3. Fit the model/algorithm and use it to make predictions on our data',\n",
       " '4. Evaluating a model',\n",
       " '5. Improve a model',\n",
       " '6. Save and load a trained model',\n",
       " '7. Putting it all together!']"
      ]
     },
     "execution_count": 2,
     "metadata": {},
     "output_type": "execute_result"
    }
   ],
   "source": [
    "what_were_covering"
   ]
  },
  {
   "cell_type": "code",
   "execution_count": null,
   "id": "da182132-9587-4cd2-81b2-ff97c2d12610",
   "metadata": {},
   "outputs": [],
   "source": []
  }
 ],
 "metadata": {
  "kernelspec": {
   "display_name": "Python 3 (ipykernel)",
   "language": "python",
   "name": "python3"
  },
  "language_info": {
   "codemirror_mode": {
    "name": "ipython",
    "version": 3
   },
   "file_extension": ".py",
   "mimetype": "text/x-python",
   "name": "python",
   "nbconvert_exporter": "python",
   "pygments_lexer": "ipython3",
   "version": "3.11.8"
  }
 },
 "nbformat": 4,
 "nbformat_minor": 5
}
